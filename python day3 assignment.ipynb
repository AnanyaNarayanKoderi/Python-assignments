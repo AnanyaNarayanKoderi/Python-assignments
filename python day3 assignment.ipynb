{
 "cells": [
  {
   "cell_type": "markdown",
   "metadata": {},
   "source": [
    "# to print the sum of 'n ' numbers using while loop"
   ]
  },
  {
   "cell_type": "code",
   "execution_count": 6,
   "metadata": {},
   "outputs": [
    {
     "name": "stdout",
     "output_type": "stream",
     "text": [
      "Enter a starting number:1\n",
      "Starting number= 1\n",
      "Enter a last number:10\n",
      "Ending number= 10\n",
      "sum in iteration 1 is 1\n",
      "sum in iteration 2 is 3\n",
      "sum in iteration 3 is 6\n",
      "sum in iteration 4 is 10\n",
      "sum in iteration 5 is 15\n",
      "sum in iteration 6 is 21\n",
      "sum in iteration 7 is 28\n",
      "sum in iteration 8 is 36\n",
      "sum in iteration 9 is 45\n",
      "sum in iteration 10 is 55\n",
      "______________________________________\n",
      "totalsum= 55\n"
     ]
    }
   ],
   "source": [
    "start=int(input(\"Enter a starting number:\"))\n",
    "print(\"Starting number=\",start)\n",
    "stop=int(input(\"Enter a last number:\"))\n",
    "print(\"Ending number=\",stop)\n",
    "sum=0\n",
    "i=1\n",
    "while start<=stop:\n",
    "    sum=sum+start;\n",
    "    print(\"sum in iteration\",i,\"is\",sum)\n",
    "    start=start+1\n",
    "    i=i+1\n",
    "print(\"______________________________________\")\n",
    "print(\"totalsum=\",sum)"
   ]
  },
  {
   "cell_type": "markdown",
   "metadata": {},
   "source": [
    "# to check if the entered number is prime or not"
   ]
  },
  {
   "cell_type": "code",
   "execution_count": 3,
   "metadata": {},
   "outputs": [
    {
     "name": "stdout",
     "output_type": "stream",
     "text": [
      "Enter a number:2\n",
      "2 is prime\n"
     ]
    }
   ],
   "source": [
    "num=int(input(\"Enter a number:\"))\n",
    "prime=1\n",
    "for i in range(2,num):\n",
    "    if num%i==0:\n",
    "        prime=0\n",
    "if prime==1:\n",
    "    print(num,\"is prime\")\n",
    "else:\n",
    "    print(num,\"is not prime\")"
   ]
  },
  {
   "cell_type": "code",
   "execution_count": 4,
   "metadata": {},
   "outputs": [
    {
     "name": "stdout",
     "output_type": "stream",
     "text": [
      "Enter a number:101\n",
      "101 is prime\n"
     ]
    }
   ],
   "source": [
    "num=int(input(\"Enter a number:\"))\n",
    "prime=1\n",
    "for i in range(2,num):\n",
    "    if num%i==0:\n",
    "        prime=0\n",
    "if prime==1:\n",
    "    print(num,\"is prime\")\n",
    "else:\n",
    "    print(num,\"is not prime\")"
   ]
  },
  {
   "cell_type": "code",
   "execution_count": 5,
   "metadata": {},
   "outputs": [
    {
     "name": "stdout",
     "output_type": "stream",
     "text": [
      "Enter a number:4\n",
      "4 is not prime\n"
     ]
    }
   ],
   "source": [
    "num=int(input(\"Enter a number:\"))\n",
    "prime=1\n",
    "for i in range(2,num):\n",
    "    if num%i==0:\n",
    "        prime=0\n",
    "if prime==1:\n",
    "    print(num,\"is prime\")\n",
    "else:\n",
    "    print(num,\"is not prime\")"
   ]
  }
 ],
 "metadata": {
  "kernelspec": {
   "display_name": "Python 3",
   "language": "python",
   "name": "python3"
  }
 },
 "nbformat": 4,
 "nbformat_minor": 4
}
