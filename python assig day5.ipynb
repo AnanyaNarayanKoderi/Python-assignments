{
 "cells": [
  {
   "cell_type": "markdown",
   "metadata": {},
   "source": [
    "# Assignment1:sort list in increasing order but provided zero should apper at right end"
   ]
  },
  {
   "cell_type": "code",
   "execution_count": 1,
   "metadata": {},
   "outputs": [
    {
     "name": "stdout",
     "output_type": "stream",
     "text": [
      "[1, 1, 1, 2, 2, 3, 4, 4, 10, 56, 56, 0, 0, 0, 0, 0]\n"
     ]
    }
   ],
   "source": [
    "l=[0,1,2,10,4,1,0,56,2,0,1,3,0,56,0,4]\n",
    "l.sort()\n",
    "s=l.count(0)\n",
    "print(l[s:]+l[:s])"
   ]
  },
  {
   "cell_type": "markdown",
   "metadata": {},
   "source": [
    "# #Assignment2:merge two sorted list to form a sorted list"
   ]
  },
  {
   "cell_type": "code",
   "execution_count": 7,
   "metadata": {},
   "outputs": [
    {
     "name": "stdout",
     "output_type": "stream",
     "text": [
      "[5, 10, 15, 20, 25, 35, 40, 45, 60, 70, 80]\n"
     ]
    }
   ],
   "source": [
    "list1=[10,20,40,60,70,80]\n",
    "list2=[5,15,25,35,45,60]\n",
    "list3=list1+list2\n",
    "list4=[]\n",
    "n=min(list3)\n",
    "m=max(list3)\n",
    "for each in range(n,m+1):\n",
    "    if each in list3:\n",
    "        list4.append(each)\n",
    "print(list4)\n",
    "    "
   ]
  }
 ],
 "metadata": {
  "kernelspec": {
   "display_name": "Python 3",
   "language": "python",
   "name": "python3"
  },
  "language_info": {
   "codemirror_mode": {
    "name": "ipython",
    "version": 3
   },
   "file_extension": ".py",
   "mimetype": "text/x-python",
   "name": "python",
   "nbconvert_exporter": "python",
   "pygments_lexer": "ipython3",
   "version": "3.7.6"
  }
 },
 "nbformat": 4,
 "nbformat_minor": 4
}
